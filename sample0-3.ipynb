{
 "cells": [
  {
   "cell_type": "code",
   "execution_count": 1,
   "id": "bdbe3ed4-1b92-4200-9997-8bfac691283d",
   "metadata": {},
   "outputs": [
    {
     "data": {
      "text/plain": [
       "<janome.tokenizer.Tokenizer at 0x26d8c1d9f10>"
      ]
     },
     "execution_count": 1,
     "metadata": {},
     "output_type": "execute_result"
    }
   ],
   "source": [
    "from janome.tokenizer import Tokenizer\n",
    "\n",
    "t = Tokenizer()\n",
    "t"
   ]
  },
  {
   "cell_type": "code",
   "execution_count": null,
   "id": "7928703d-afe6-4509-9108-1e458895eb34",
   "metadata": {},
   "outputs": [],
   "source": [
    "text = '東京のおいしいビールを飲もう。'\n",
    "tokens = t.tokenize(text)\n",
    "token_list = list)"
   ]
  }
 ],
 "metadata": {
  "kernelspec": {
   "display_name": "Python 3 (ipykernel)",
   "language": "python",
   "name": "python3"
  },
  "language_info": {
   "codemirror_mode": {
    "name": "ipython",
    "version": 3
   },
   "file_extension": ".py",
   "mimetype": "text/x-python",
   "name": "python",
   "nbconvert_exporter": "python",
   "pygments_lexer": "ipython3",
   "version": "3.11.4"
  }
 },
 "nbformat": 4,
 "nbformat_minor": 5
}
