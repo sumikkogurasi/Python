{
 "cells": [
  {
   "cell_type": "code",
   "execution_count": 9,
   "id": "3b0530ea-085d-456a-b7b5-17c7cb66ba9f",
   "metadata": {},
   "outputs": [
    {
     "data": {
      "text/plain": [
       "[<generator object Tokenizer.__tokenize_stream at 0x00000243A36CEE90>,\n",
       " <generator object Tokenizer.__tokenize_stream at 0x00000243A36CED60>,\n",
       " <generator object Tokenizer.__tokenize_stream at 0x00000243A36CEB00>]"
      ]
     },
     "execution_count": 9,
     "metadata": {},
     "output_type": "execute_result"
    }
   ],
   "source": [
    "from janome.tokenizer import Tokenizer\n",
    "\n",
    "t = Tokenizer()\n",
    "sentences = [\n",
    "    'おいしいビールを飲む', 'コーヒーを飲む', 'おいしいクラフトビールを買う'\n",
    "]\n",
    "\n",
    "words_list = []\n",
    "for sentence in sentences:\n",
    "    words_list.append(t.tokenize(sentence, wakati = True))\n",
    "words_list"
   ]
  },
  {
   "cell_type": "code",
   "execution_count": null,
   "id": "2fcd551a-ab00-40c0-aa51-7ff47cde9883",
   "metadata": {},
   "outputs": [],
   "source": []
  }
 ],
 "metadata": {
  "kernelspec": {
   "display_name": "Python 3 (ipykernel)",
   "language": "python",
   "name": "python3"
  },
  "language_info": {
   "codemirror_mode": {
    "name": "ipython",
    "version": 3
   },
   "file_extension": ".py",
   "mimetype": "text/x-python",
   "name": "python",
   "nbconvert_exporter": "python",
   "pygments_lexer": "ipython3",
   "version": "3.11.4"
  }
 },
 "nbformat": 4,
 "nbformat_minor": 5
}
