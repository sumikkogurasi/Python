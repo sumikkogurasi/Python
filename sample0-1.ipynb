{
 "cells": [
  {
   "cell_type": "code",
   "execution_count": 6,
   "id": "30c29c87-d64f-458c-96eb-f8e1e8fb99ae",
   "metadata": {},
   "outputs": [],
   "source": [
    "from datetime import datetime"
   ]
  },
  {
   "cell_type": "code",
   "execution_count": 7,
   "id": "08e4bcfa-1424-4161-81bc-7c761d8acd1e",
   "metadata": {},
   "outputs": [],
   "source": [
    "def get_day_of_week(date_str):\n",
    "    dt = datetime.strptime(date_str, '%Y/%m/%d')\n",
    "    return WEEKDAY[dt.weekday()]"
   ]
  },
  {
   "cell_type": "code",
   "execution_count": null,
   "id": "87e930e3-44cf-4f8f-b6be-aca13f7f0167",
   "metadata": {},
   "outputs": [],
   "source": [
    "WEEKDAY = {0: '月', 1: '火', 2: '水', 3: '木', 4: '金', 5: '土', 6: '日'}"
   ]
  },
  {
   "cell_type": "code",
   "execution_count": 8,
   "id": "51067b0f-5fc5-4d26-b5fa-ee139cf5d466",
   "metadata": {},
   "outputs": [
    {
     "ename": "NameError",
     "evalue": "name 'WEEKDAY' is not defined",
     "output_type": "error",
     "traceback": [
      "\u001b[1;31m---------------------------------------------------------------------------\u001b[0m",
      "\u001b[1;31mNameError\u001b[0m                                 Traceback (most recent call last)",
      "Cell \u001b[1;32mIn[8], line 1\u001b[0m\n\u001b[1;32m----> 1\u001b[0m \u001b[43mget_day_of_week\u001b[49m\u001b[43m(\u001b[49m\u001b[38;5;124;43m'\u001b[39;49m\u001b[38;5;124;43m2023/8/5\u001b[39;49m\u001b[38;5;124;43m'\u001b[39;49m\u001b[43m)\u001b[49m\n",
      "Cell \u001b[1;32mIn[7], line 3\u001b[0m, in \u001b[0;36mget_day_of_week\u001b[1;34m(date_str)\u001b[0m\n\u001b[0;32m      1\u001b[0m \u001b[38;5;28;01mdef\u001b[39;00m \u001b[38;5;21mget_day_of_week\u001b[39m(date_str):\n\u001b[0;32m      2\u001b[0m     dt \u001b[38;5;241m=\u001b[39m datetime\u001b[38;5;241m.\u001b[39mstrptime(date_str, \u001b[38;5;124m'\u001b[39m\u001b[38;5;124m%\u001b[39m\u001b[38;5;124mY/\u001b[39m\u001b[38;5;124m%\u001b[39m\u001b[38;5;124mm/\u001b[39m\u001b[38;5;132;01m%d\u001b[39;00m\u001b[38;5;124m'\u001b[39m)\n\u001b[1;32m----> 3\u001b[0m     \u001b[38;5;28;01mreturn\u001b[39;00m \u001b[43mWEEKDAY\u001b[49m[dt\u001b[38;5;241m.\u001b[39mweekday()]\n",
      "\u001b[1;31mNameError\u001b[0m: name 'WEEKDAY' is not defined"
     ]
    }
   ],
   "source": [
    "get_day_of_week('2023/8/5')"
   ]
  }
 ],
 "metadata": {
  "kernelspec": {
   "display_name": "Python 3 (ipykernel)",
   "language": "python",
   "name": "python3"
  },
  "language_info": {
   "codemirror_mode": {
    "name": "ipython",
    "version": 3
   },
   "file_extension": ".py",
   "mimetype": "text/x-python",
   "name": "python",
   "nbconvert_exporter": "python",
   "pygments_lexer": "ipython3",
   "version": "3.11.4"
  }
 },
 "nbformat": 4,
 "nbformat_minor": 5
}
