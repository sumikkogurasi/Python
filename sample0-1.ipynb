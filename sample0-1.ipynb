{
 "cells": [
  {
   "cell_type": "code",
   "execution_count": 6,
   "id": "30c29c87-d64f-458c-96eb-f8e1e8fb99ae",
   "metadata": {},
   "outputs": [],
   "source": [
    "from datetime import datetime"
   ]
  },
  {
   "cell_type": "code",
   "execution_count": 7,
   "id": "08e4bcfa-1424-4161-81bc-7c761d8acd1e",
   "metadata": {},
   "outputs": [],
   "source": [
    "def get_day_of_week(date_str):\n",
    "    dt = datetime.strptime(date_str, '%Y/%m/%d')\n",
    "    return WEEKDAY[dt.weekday()]"
   ]
  },
  {
   "cell_type": "code",
   "execution_count": 9,
   "id": "87e930e3-44cf-4f8f-b6be-aca13f7f0167",
   "metadata": {},
   "outputs": [],
   "source": [
    "WEEKDAY = {0: '月', 1: '火', 2: '水', 3: '木', 4: '金', 5: '土', 6: '日'}"
   ]
  },
  {
   "cell_type": "code",
   "execution_count": 10,
   "id": "51067b0f-5fc5-4d26-b5fa-ee139cf5d466",
   "metadata": {},
   "outputs": [
    {
     "data": {
      "text/plain": [
       "'土'"
      ]
     },
     "execution_count": 10,
     "metadata": {},
     "output_type": "execute_result"
    }
   ],
   "source": [
    "get_day_of_week('2023/8/5')"
   ]
  },
  {
   "cell_type": "code",
   "execution_count": null,
   "id": "cbfff6b0-3b70-4220-a91f-6ed1e62c8c2f",
   "metadata": {},
   "outputs": [],
   "source": []
  }
 ],
 "metadata": {
  "kernelspec": {
   "display_name": "Python 3 (ipykernel)",
   "language": "python",
   "name": "python3"
  },
  "language_info": {
   "codemirror_mode": {
    "name": "ipython",
    "version": 3
   },
   "file_extension": ".py",
   "mimetype": "text/x-python",
   "name": "python",
   "nbconvert_exporter": "python",
   "pygments_lexer": "ipython3",
   "version": "3.11.4"
  }
 },
 "nbformat": 4,
 "nbformat_minor": 5
}
